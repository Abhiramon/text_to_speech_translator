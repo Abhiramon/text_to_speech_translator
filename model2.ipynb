{
 "cells": [
  {
   "cell_type": "code",
   "execution_count": 1,
   "metadata": {},
   "outputs": [
    {
     "name": "stderr",
     "output_type": "stream",
     "text": [
      "/home/anshuk/miniconda3/envs/py365/lib/python3.6/importlib/_bootstrap.py:219: RuntimeWarning: numpy.dtype size changed, may indicate binary incompatibility. Expected 96, got 88\n",
      "  return f(*args, **kwds)\n",
      "/home/anshuk/miniconda3/envs/py365/lib/python3.6/importlib/_bootstrap.py:219: RuntimeWarning: numpy.dtype size changed, may indicate binary incompatibility. Expected 96, got 88\n",
      "  return f(*args, **kwds)\n"
     ]
    }
   ],
   "source": [
    "import torch\n",
    "import torch.nn as nn\n",
    "import torch.nn.functional as F\n",
    "import torch.optim as optim\n",
    "\n",
    "import numpy as np\n",
    "import librosa\n",
    "import pandas as pd\n",
    "import matplotlib.pyplot as plt\n",
    "%matplotlib inline"
   ]
  },
  {
   "cell_type": "code",
   "execution_count": 2,
   "metadata": {},
   "outputs": [],
   "source": [
    "from data_processing import *"
   ]
  },
  {
   "cell_type": "code",
   "execution_count": 3,
   "metadata": {},
   "outputs": [
    {
     "name": "stdout",
     "output_type": "stream",
     "text": [
      "24676\n",
      "True\n"
     ]
    }
   ],
   "source": [
    "pairs = prepare_pairs_mfcc(\"../data/hin_cleaned_25k.txt\", \"../data/mfcc_features\")\n",
    "print(len(pairs))\n",
    "print(torch.cuda.is_available())"
   ]
  },
  {
   "cell_type": "code",
   "execution_count": 4,
   "metadata": {},
   "outputs": [],
   "source": [
    "train_test_split = 0.8\n",
    "\n",
    "split_index = int(train_test_split*len(pairs))\n",
    "train_pairs = pairs[:split_index]\n",
    "test_pairs = pairs[split_index:]"
   ]
  },
  {
   "cell_type": "code",
   "execution_count": 5,
   "metadata": {},
   "outputs": [],
   "source": [
    "max_source_length = 0\n",
    "max_target_length = 0\n",
    "for mfcc, text in pairs:\n",
    "    if max_target_length < len(text.split()):\n",
    "        max_target_length =len(text.split())\n",
    "    \n",
    "    if max_source_length < mfcc.shape[0]:\n",
    "        max_source_length = mfcc.shape[0]\n"
   ]
  },
  {
   "cell_type": "code",
   "execution_count": 6,
   "metadata": {},
   "outputs": [],
   "source": [
    "EMBEDDING_DIM = 300\n",
    "HIDDEN_DIM = 30"
   ]
  },
  {
   "cell_type": "code",
   "execution_count": 7,
   "metadata": {},
   "outputs": [],
   "source": [
    "hindi_vocab = load_embeddings(\"../data/cleaned_hin_word_vec.txt\")\n",
    "\n",
    "for token in hindi_vocab:\n",
    "    hindi_vocab[token] = np.array( hindi_vocab[token])\n",
    "\n",
    "hindi_vocab[\"<SOS>\"] = np.random.rand(EMBEDDING_DIM)\n",
    "hindi_vocab[\"<EOS>\"] = np.random.rand(EMBEDDING_DIM)\n",
    "hindi_vocab[\"<UNK>\"] = np.random.rand(EMBEDDING_DIM)"
   ]
  },
  {
   "cell_type": "code",
   "execution_count": 8,
   "metadata": {},
   "outputs": [],
   "source": [
    "MAX_LENGTH = max_source_length + 20"
   ]
  },
  {
   "cell_type": "code",
   "execution_count": 9,
   "metadata": {},
   "outputs": [],
   "source": [
    "token_to_ix = {}\n",
    "ix_to_token = {}\n",
    "\n",
    "for token in hindi_vocab:\n",
    "    ix_to_token[len(token_to_ix)] = token\n",
    "    token_to_ix[token] = len(token_to_ix)\n",
    "    \n",
    "def index2token(index):\n",
    "    if index in ix_to_token:\n",
    "        return ix_to_token[index]\n",
    "    else:\n",
    "        return \"<UNK>\"\n",
    "    \n",
    "def token2index(token):\n",
    "    if token in token_to_ix:\n",
    "        return token_to_ix[token]\n",
    "    else:\n",
    "        return token_to_ix[\"<UNK>\"]\n",
    "        \n",
    "def token2embed(token):\n",
    "    if token in hindi_vocab:\n",
    "        return hindi_vocab[token]\n",
    "    else:\n",
    "        return hindi_vocab[\"<UNK>\"]\n",
    "        "
   ]
  },
  {
   "cell_type": "code",
   "execution_count": 11,
   "metadata": {},
   "outputs": [],
   "source": [
    "from __future__ import unicode_literals, print_function, division\n",
    "from io import open\n",
    "import unicodedata\n",
    "import string\n",
    "import re\n",
    "import random\n",
    "\n",
    "import torch\n",
    "import torch.nn as nn\n",
    "from torch import optim\n",
    "import torch.nn.functional as F\n",
    "\n",
    "device = torch.device(\"cuda:0\" if torch.cuda.is_available() else \"cpu\")"
   ]
  },
  {
   "cell_type": "code",
   "execution_count": 12,
   "metadata": {},
   "outputs": [],
   "source": [
    "class Encoder(nn.Module):\n",
    "    def __init__(self, input_size, hidden_size):\n",
    "        super(Encoder, self).__init__()\n",
    "        self.hidden_size = hidden_size\n",
    "        self.lstm = nn.LSTM(input_size, hidden_size)\n",
    "\n",
    "    def forward(self, inputs, hidden):\n",
    "        output = inputs.view(1, 1, -1)\n",
    "        output, hidden = self.lstm(output, hidden)\n",
    "        return output, hidden\n",
    "\n",
    "    def init_hidden(self):\n",
    "        return (torch.zeros(1, 1, self.hidden_size, dtype=torch.float, device=device),\n",
    "                torch.zeros(1, 1, self.hidden_size, dtype=torch.float, device=device))"
   ]
  },
  {
   "cell_type": "code",
   "execution_count": 13,
   "metadata": {},
   "outputs": [],
   "source": [
    "class AttnDecoder(nn.Module):\n",
    "    def __init__(self, hidden_size, output_size, dropout_p=0.1, max_length=MAX_LENGTH):\n",
    "        super(AttnDecoder, self).__init__()\n",
    "        self.hidden_size = hidden_size\n",
    "        self.output_size = output_size\n",
    "        self.dropout_p = dropout_p\n",
    "        self.max_length = max_length\n",
    "        self.attn = nn.Linear(self.hidden_size * 2, self.max_length)\n",
    "        self.attn_combine = nn.Linear(self.hidden_size * 2, self.hidden_size)         \n",
    "        self.dropout = nn.Dropout(self.dropout_p)\n",
    "        self.lstm = nn.LSTM(self.hidden_size, self.hidden_size)\n",
    "        self.out = nn.Linear(self.hidden_size, self.output_size)\n",
    "\n",
    "    def forward(self, embedded, hidden, encoder_outputs):\n",
    "        embedded = embedded.view(1, 1, -1)\n",
    "        embedded = self.dropout(embedded)\n",
    "\n",
    "        attn_weights = F.softmax(\n",
    "            self.attn(torch.cat((embedded[0], hidden[0]), 1)), dim=1)\n",
    "        attn_applied = torch.bmm(attn_weights.unsqueeze(0),\n",
    "                                 encoder_outputs.unsqueeze(0))\n",
    "\n",
    "        output = torch.cat((embedded[0], attn_applied[0]), 1)\n",
    "        output = self.attn_combine(output).unsqueeze(0)\n",
    "\n",
    "        output = F.relu(output)\n",
    "        output, hidden = self.lstm(output, hidden)\n",
    "\n",
    "        output = F.log_softmax(self.out(output[0]), dim=1)\n",
    "        return output, hidden, attn_weights\n",
    "\n",
    "    def init_hidden(self):\n",
    "        return (torch.zeros(1, 1, self.hidden_size, dtype=torch.float, device=device),\n",
    "                torch.zeros(1, 1, self.hidden_size, dtype=torch.float, device=device))"
   ]
  },
  {
   "cell_type": "code",
   "execution_count": 14,
   "metadata": {},
   "outputs": [],
   "source": [
    "import time\n",
    "import math\n",
    "\n",
    "\n",
    "def asMinutes(s):\n",
    "    m = math.floor(s / 60)\n",
    "    s -= m * 60\n",
    "    return '%dm %ds' % (m, s)\n",
    "\n",
    "\n",
    "def timeSince(since, percent):\n",
    "    eps=10e-7\n",
    "    now = time.time()\n",
    "    s = now - since\n",
    "    es = s / (percent + eps)\n",
    "    rs = es - s\n",
    "    return '%s (- %s)' % (asMinutes(s), asMinutes(rs))\n",
    "\n"
   ]
  },
  {
   "cell_type": "code",
   "execution_count": 15,
   "metadata": {},
   "outputs": [],
   "source": [
    "def indexesFromSentence(sentence):\n",
    "    return [token2index(word) for word in sentence.split(' ')]\n",
    "\n",
    "\n",
    "def tensorsFromSentence(sentence):\n",
    "    indexes = indexesFromSentence(sentence)\n",
    "    indexes.append(token2index(\"<EOS>\"))\n",
    "    return torch.tensor(indexes, dtype=torch.long, device=device, requires_grad = False).view(-1, 1)\n",
    "\n",
    "\n",
    "def tensorsFromPair(pair):\n",
    "    target_tensor = tensorsFromSentence(pair[1])\n",
    "    input_tensor = torch.from_numpy(pair[0].astype('float32')).to(device)\n",
    "    return (input_tensor, target_tensor)"
   ]
  },
  {
   "cell_type": "code",
   "execution_count": 16,
   "metadata": {},
   "outputs": [],
   "source": [
    "def train(input_tensor, target_tensor, encoder, attn_decoder, encoder_optimizer, attn_decoder_optimizer, criterion, max_length=MAX_LENGTH):\n",
    "    encoder_hidden = encoder.init_hidden()\n",
    "    \n",
    "    encoder_optimizer.zero_grad()\n",
    "    attn_decoder_optimizer.zero_grad()\n",
    "\n",
    "    input_length = input_tensor.size(0)\n",
    "    target_length = target_tensor.size(0)\n",
    "\n",
    "    encoder_outputs = torch.zeros(max_length, encoder.hidden_size, dtype = torch.float, device=device)\n",
    "\n",
    "    loss = 0\n",
    "        \n",
    "    for ei in range(input_length):    \n",
    "        encoder_output, encoder_hidden = encoder(\n",
    "            input_tensor[ei], encoder_hidden)\n",
    "        encoder_outputs[ei] = encoder_output[0, 0]\n",
    "\n",
    "    attn_decoder_input = torch.tensor([[token2index(\"<SOS>\")]], dtype = torch.long, device=device)\n",
    "\n",
    "    attn_decoder_hidden = encoder_hidden\n",
    "    \n",
    "\n",
    "    for di in range(target_length):\n",
    "        \n",
    "        attn_decoder_output, attn_decoder_hidden = attn_decoder(\n",
    "            torch.tensor(token2embed(index2token(attn_decoder_input)), dtype =torch.float, device = device), attn_decoder_hidden,encoder_outputs)\n",
    "        topv, topi = attn_decoder_output.topk(1)\n",
    "        attn_decoder_input = topi.squeeze().detach()  # detach from history as input\n",
    "\n",
    "        loss += criterion(attn_decoder_output, target_tensor[di])\n",
    "        if attn_decoder_input.item() == token2index(\"<EOS>\"):\n",
    "            break\n",
    "\n",
    "    loss.backward()\n",
    "\n",
    "    encoder_optimizer.step()\n",
    "    attn_decoder_optimizer.step()\n",
    "\n",
    "    return loss.item() / target_length\n"
   ]
  },
  {
   "cell_type": "code",
   "execution_count": 17,
   "metadata": {},
   "outputs": [
    {
     "data": {
      "text/plain": [
       "'\\n        if iter % plot_every == 0:\\n            plot_loss_avg = plot_loss_total / plot_every\\n            plot_losses.append(plot_loss_avg)\\n            plot_loss_total = 0\\n\\n    showPlot(plot_losses)\\n'"
      ]
     },
     "execution_count": 17,
     "metadata": {},
     "output_type": "execute_result"
    }
   ],
   "source": [
    "def trainIters(pairs, encoder, attn_decoder, n_iters, print_every=1, plot_every=100, learning_rate=0.01):\n",
    "    start = time.time()\n",
    "    plot_losses = []\n",
    "    print_loss_total = 0  # Reset every print_every\n",
    "    plot_loss_total = 0  # Reset every plot_every\n",
    "\n",
    "    encoder_optimizer = optim.Adam(encoder.parameters(), lr=learning_rate)\n",
    "    attn_decoder_optimizer = optim.Adam(attn_decoder.parameters(), lr=learning_rate)\n",
    "    training_pairs = [tensorsFromPair(i)\n",
    "                      for i in pairs] #making a list of all training pairs\n",
    "    criterion = nn.NLLLoss()\n",
    "\n",
    "    for iter in range(n_iters):\n",
    "        for j in range(len(training_pairs)):\n",
    "            training_pair = training_pairs[j]\n",
    "            input_tensor = training_pair[0]\n",
    "            target_tensor = training_pair[1]\n",
    "    \n",
    "            loss = train(input_tensor, target_tensor, encoder,\n",
    "                         attn_decoder, encoder_optimizer, attn_decoder_optimizer, criterion)\n",
    "            print_loss_total += loss\n",
    "            plot_loss_total += loss\n",
    "            if j%1000==0:\n",
    "                print(j,\"samples trained over\")\n",
    "            \n",
    "        if iter % print_every == 0:\n",
    "            print_loss_avg = print_loss_total / print_every\n",
    "            print_loss_total = 0\n",
    "            print('%s (%d %d%%) %.4f' % (timeSince(start, iter / n_iters),\n",
    "                                         iter, iter / n_iters * 100, print_loss_avg))\n",
    "\"\"\"\n",
    "        if iter % plot_every == 0:\n",
    "            plot_loss_avg = plot_loss_total / plot_every\n",
    "            plot_losses.append(plot_loss_avg)\n",
    "            plot_loss_total = 0\n",
    "\n",
    "    showPlot(plot_losses)\n",
    "\"\"\""
   ]
  },
  {
   "cell_type": "code",
   "execution_count": 18,
   "metadata": {},
   "outputs": [],
   "source": [
    "lr = 3e-3\n",
    "encoder = Encoder(13, HIDDEN_DIM).to(device)\n",
    "attn_decoder = AttnDecoder(HIDDEN_DIM, len(hindi_vocab)).to(device)\n",
    "\n",
    "n_iters = 3"
   ]
  },
  {
   "cell_type": "code",
   "execution_count": null,
   "metadata": {},
   "outputs": [],
   "source": [
    "trainIters(train_pairs, encoder, attn_decoder, n_iters, print_every=1, plot_every=1, learning_rate=lr)\n",
    "torch.save(encoder,\"../data/encoder.pt\")\n",
    "torch.save(attn_decoder,\"../data/attn_decoder.pt\")"
   ]
  }
 ],
 "metadata": {
  "kernelspec": {
   "display_name": "Python 3",
   "language": "python",
   "name": "python3"
  },
  "language_info": {
   "codemirror_mode": {
    "name": "ipython",
    "version": 3
   },
   "file_extension": ".py",
   "mimetype": "text/x-python",
   "name": "python",
   "nbconvert_exporter": "python",
   "pygments_lexer": "ipython3",
   "version": "3.6.5"
  }
 },
 "nbformat": 4,
 "nbformat_minor": 1
}
